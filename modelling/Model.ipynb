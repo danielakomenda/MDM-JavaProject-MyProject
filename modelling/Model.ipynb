{
 "cells": [
  {
   "cell_type": "code",
   "execution_count": 5,
   "id": "3c656b82-380d-4788-bd17-1118145d0a80",
   "metadata": {},
   "outputs": [],
   "source": [
    "import pathlib\n",
    "\n",
    "import numpy as np\n",
    "import tensorflow as tf\n",
    "import matplotlib.pyplot as plt\n",
    "from PIL import Image\n",
    "\n",
    "from sklearn.metrics import classification_report\n",
    "from sklearn.model_selection import train_test_split\n",
    "from tensorflow.keras.models import Sequential\n",
    "from tensorflow.keras.layers import Rescaling, Resizing, Input, Conv2D, BatchNormalization, Activation, MaxPooling2D, Dropout, Flatten, Dense\n",
    "from tensorflow.keras.optimizers import Adam\n",
    "from tensorflow.keras.utils import to_categorical\n",
    "from tensorflow.keras.preprocessing.image import ImageDataGenerator\n",
    "from tensorflow.keras.callbacks import EarlyStopping, ReduceLROnPlateau, CSVLogger, ModelCheckpoint\n",
    "from tensorflow.keras.metrics import Accuracy\n",
    "from tensorflow.keras.losses import CategoricalCrossentropy\n",
    "from tensorflow.keras.models import load_model"
   ]
  },
  {
   "cell_type": "code",
   "execution_count": 6,
   "id": "f4a98afc-9939-495b-b3d8-b7b12acf4fb7",
   "metadata": {},
   "outputs": [],
   "source": [
    "# Path to your dataset\n",
    "data_dir = pathlib.Path('../javaproject/fruits')\n",
    "\n",
    "# Image dimensions\n",
    "IMAGE_WIDTH = 128\n",
    "IMAGE_HEIGHT = 128\n",
    "IMAGE_CHANNELS = 3\n",
    "\n",
    "# Define class labels\n",
    "fruit_images_dict = {\n",
    "    'apple': list(data_dir.glob('apple/*')),\n",
    "    'banana': list(data_dir.glob('banana/*')),\n",
    "    'cherry': list(data_dir.glob('cherry/*')),\n",
    "    'grapes': list(data_dir.glob('grapes/*')),\n",
    "    'kiwi': list(data_dir.glob('kiwi/*')),\n",
    "    'mango': list(data_dir.glob('mango/*')),\n",
    "    'orange': list(data_dir.glob('orange/*')),\n",
    "    'strawberry': list(data_dir.glob('strawberry/*'))\n",
    "}\n",
    "\n",
    "# Labels from 0 to 7\n",
    "fruit_labels_dict = {\n",
    "    'apple': 0,\n",
    "    'banana': 1,\n",
    "    'cherry': 2,\n",
    "    'grapes': 3,\n",
    "    'kiwi': 4,\n",
    "    'mango': 5,\n",
    "    'orange': 6,\n",
    "    'strawberry': 7\n",
    "}"
   ]
  },
  {
   "cell_type": "code",
   "execution_count": 7,
   "id": "545614d1-b8a0-4167-9d23-7e0c04639f2d",
   "metadata": {},
   "outputs": [],
   "source": [
    "# Prepare the dataset\n",
    "X, Y = [], []\n",
    "\n",
    "for fruit_name, images in fruit_images_dict.items():\n",
    "    for image_file_path in images:\n",
    "        if image_file_path.name.startswith(\".\"):\n",
    "            continue\n",
    "        with Image.open(image_file_path) as img:\n",
    "            img = img.convert(\"RGB\")\n",
    "            if img.size[1] < IMAGE_HEIGHT or img.size[0] < IMAGE_WIDTH:\n",
    "                continue\n",
    "            img = img.resize([IMAGE_WIDTH, IMAGE_HEIGHT], Image.LANCZOS)\n",
    "            img_data = np.array(img)/255\n",
    "        X.append(img_data)\n",
    "        Y.append(fruit_labels_dict[fruit_name])\n",
    "\n",
    "\n",
    "X = np.array(X)\n",
    "Y = np.array(Y)\n",
    "\n",
    "# Convert labels to categorical (one-hot encoding)\n",
    "Y = to_categorical(Y, num_classes=8)\n",
    "\n",
    "# Split the dataset\n",
    "X_train, X_test, Y_train, Y_test = train_test_split(X, Y, test_size=0.3)"
   ]
  },
  {
   "cell_type": "code",
   "execution_count": null,
   "id": "0ea927bf-fb25-4f3f-ac59-53c15f516b6c",
   "metadata": {},
   "outputs": [
    {
     "name": "stdout",
     "output_type": "stream",
     "text": [
      "Epoch 1/70\n",
      "\u001b[1m14/14\u001b[0m \u001b[32m━━━━━━━━━━━━━━━━━━━━\u001b[0m\u001b[37m\u001b[0m \u001b[1m4s\u001b[0m 176ms/step - accuracy: 0.1986 - loss: 2.7540 - val_accuracy: 0.2396 - val_loss: 1.9899\n",
      "Epoch 2/70\n",
      "\u001b[1m14/14\u001b[0m \u001b[32m━━━━━━━━━━━━━━━━━━━━\u001b[0m\u001b[37m\u001b[0m \u001b[1m3s\u001b[0m 171ms/step - accuracy: 0.3659 - loss: 1.7316 - val_accuracy: 0.1146 - val_loss: 2.0829\n",
      "Epoch 3/70\n",
      "\u001b[1m14/14\u001b[0m \u001b[32m━━━━━━━━━━━━━━━━━━━━\u001b[0m\u001b[37m\u001b[0m \u001b[1m2s\u001b[0m 166ms/step - accuracy: 0.4670 - loss: 1.5148 - val_accuracy: 0.1042 - val_loss: 2.4081\n",
      "Epoch 4/70\n",
      "\u001b[1m14/14\u001b[0m \u001b[32m━━━━━━━━━━━━━━━━━━━━\u001b[0m\u001b[37m\u001b[0m \u001b[1m2s\u001b[0m 164ms/step - accuracy: 0.5243 - loss: 1.5232 - val_accuracy: 0.1042 - val_loss: 2.6555\n",
      "Epoch 5/70\n",
      "\u001b[1m14/14\u001b[0m \u001b[32m━━━━━━━━━━━━━━━━━━━━\u001b[0m\u001b[37m\u001b[0m \u001b[1m2s\u001b[0m 163ms/step - accuracy: 0.4174 - loss: 1.5892 - val_accuracy: 0.1042 - val_loss: 2.7500\n",
      "Epoch 6/70\n",
      "\u001b[1m14/14\u001b[0m \u001b[32m━━━━━━━━━━━━━━━━━━━━\u001b[0m\u001b[37m\u001b[0m \u001b[1m3s\u001b[0m 170ms/step - accuracy: 0.5305 - loss: 1.2369 - val_accuracy: 0.1042 - val_loss: 2.9507\n",
      "Epoch 7/70\n",
      "\u001b[1m14/14\u001b[0m \u001b[32m━━━━━━━━━━━━━━━━━━━━\u001b[0m\u001b[37m\u001b[0m \u001b[1m3s\u001b[0m 168ms/step - accuracy: 0.5393 - loss: 1.3499 - val_accuracy: 0.1042 - val_loss: 2.9143\n",
      "Epoch 8/70\n",
      "\u001b[1m14/14\u001b[0m \u001b[32m━━━━━━━━━━━━━━━━━━━━\u001b[0m\u001b[37m\u001b[0m \u001b[1m3s\u001b[0m 176ms/step - accuracy: 0.5499 - loss: 1.2025 - val_accuracy: 0.1042 - val_loss: 3.0548\n",
      "Epoch 9/70\n",
      "\u001b[1m14/14\u001b[0m \u001b[32m━━━━━━━━━━━━━━━━━━━━\u001b[0m\u001b[37m\u001b[0m \u001b[1m2s\u001b[0m 167ms/step - accuracy: 0.5159 - loss: 1.3001 - val_accuracy: 0.1042 - val_loss: 3.0873\n",
      "Epoch 10/70\n",
      "\u001b[1m14/14\u001b[0m \u001b[32m━━━━━━━━━━━━━━━━━━━━\u001b[0m\u001b[37m\u001b[0m \u001b[1m3s\u001b[0m 174ms/step - accuracy: 0.6185 - loss: 1.2384 - val_accuracy: 0.1042 - val_loss: 3.0972\n",
      "Epoch 11/70\n",
      "\u001b[1m14/14\u001b[0m \u001b[32m━━━━━━━━━━━━━━━━━━━━\u001b[0m\u001b[37m\u001b[0m \u001b[1m2s\u001b[0m 163ms/step - accuracy: 0.5792 - loss: 1.2276 - val_accuracy: 0.1042 - val_loss: 3.1101\n",
      "Epoch 12/70\n",
      "\u001b[1m14/14\u001b[0m \u001b[32m━━━━━━━━━━━━━━━━━━━━\u001b[0m\u001b[37m\u001b[0m \u001b[1m3s\u001b[0m 193ms/step - accuracy: 0.5650 - loss: 1.3373 - val_accuracy: 0.1042 - val_loss: 3.2358\n",
      "Epoch 13/70\n",
      "\u001b[1m14/14\u001b[0m \u001b[32m━━━━━━━━━━━━━━━━━━━━\u001b[0m\u001b[37m\u001b[0m \u001b[1m3s\u001b[0m 196ms/step - accuracy: 0.5549 - loss: 1.1916 - val_accuracy: 0.1042 - val_loss: 3.0687\n",
      "Epoch 14/70\n",
      "\u001b[1m 8/14\u001b[0m \u001b[32m━━━━━━━━━━━\u001b[0m\u001b[37m━━━━━━━━━\u001b[0m \u001b[1m0s\u001b[0m 165ms/step - accuracy: 0.5707 - loss: 1.1377"
     ]
    }
   ],
   "source": [
    "# Define the model architecture\n",
    "model = Sequential([\n",
    "    Input(shape=(None, None, IMAGE_CHANNELS)),\n",
    "\n",
    "    Resizing(\n",
    "        width=IMAGE_WIDTH,\n",
    "        height=IMAGE_HEIGHT,\n",
    "        interpolation=\"bilinear\",\n",
    "        crop_to_aspect_ratio=False,\n",
    "        #pad_to_aspect_ratio=False,\n",
    "    ),\n",
    "    \n",
    "    # Input Layer\n",
    "    Conv2D(32, (3, 3), padding='same'),\n",
    "    BatchNormalization(),\n",
    "    Activation('relu'),\n",
    "    MaxPooling2D(pool_size=(2, 2)),\n",
    "    Dropout(0.25),\n",
    "\n",
    "    # Second Layer\n",
    "    Conv2D(64, (3, 3), padding='same'),\n",
    "    BatchNormalization(),\n",
    "    Activation('relu'),\n",
    "    MaxPooling2D(pool_size=(2, 2)),\n",
    "    Dropout(0.25),\n",
    "\n",
    "    # Third Layer\n",
    "    Conv2D(128, (3, 3), padding='same'),\n",
    "    BatchNormalization(),\n",
    "    Activation('relu'),\n",
    "    MaxPooling2D(pool_size=(2, 2)),\n",
    "    Dropout(0.25),\n",
    "    \n",
    "    # Flatten the output\n",
    "    Flatten(),\n",
    "\n",
    "    # Dense Layer\n",
    "    Dense(256),\n",
    "    BatchNormalization(),\n",
    "    Activation('relu'),\n",
    "    Dropout(0.5),\n",
    "\n",
    "    # Output Layer\n",
    "    Dense(8),\n",
    "    Activation('softmax')\n",
    "])\n",
    "\n",
    "# Compile the model\n",
    "model.compile(optimizer=Adam(learning_rate=0.0003), loss='categorical_crossentropy', metrics=['accuracy'])\n",
    "\n",
    "\n",
    "# Data augmentation\n",
    "datagen = ImageDataGenerator(\n",
    "    rotation_range=90,\n",
    "    width_shift_range=0.3,\n",
    "    height_shift_range=0.3,\n",
    "    shear_range=0.3,\n",
    "    zoom_range=0.3,\n",
    "    horizontal_flip=True,\n",
    "    vertical_flip=True,\n",
    "    fill_mode='nearest'\n",
    ")\n",
    "\n",
    "train_generator = datagen.flow(X_train, Y_train, batch_size=16)\n",
    "\n",
    "# Train the model\n",
    "history = model.fit(\n",
    "    train_generator,\n",
    "    validation_data=(X_test, Y_test),\n",
    "    epochs=70,\n",
    ")\n",
    "\n",
    "# Evaluate the model\n",
    "loss, accuracy = model.evaluate(X_test, Y_test)\n",
    "print(f\"Test Accuracy: {accuracy * 100:.2f}%\")\n",
    "\n",
    "# Predict the classes\n",
    "y_pred = model.predict(X_test)\n",
    "y_pred_classes = np.argmax(y_pred, axis=1)\n",
    "\n",
    "# Convert Y_test from one-hot encoding to class labels\n",
    "Y_test_classes = np.argmax(Y_test, axis=1)\n",
    "\n",
    "class_report = classification_report(Y_test_classes, y_pred_classes)\n",
    "print(\"Classification Report:\\n\", class_report)"
   ]
  },
  {
   "cell_type": "code",
   "execution_count": null,
   "id": "21eb3b29-4de6-480c-b770-e3a6928a1aa9",
   "metadata": {},
   "outputs": [],
   "source": [
    "# Plot training & validation accuracy values\n",
    "plt.figure(figsize=(12, 4))\n",
    "\n",
    "plt.subplot(1, 2, 1)\n",
    "plt.plot(history.history['accuracy'], label='Training Accuracy')\n",
    "plt.plot(history.history['val_accuracy'], label='Validation Accuracy')\n",
    "plt.title('Model Accuracy')\n",
    "plt.xlabel('Epoch')\n",
    "plt.ylabel('Accuracy')\n",
    "plt.legend(loc='lower right')\n",
    "\n",
    "# Plot training & validation loss values\n",
    "plt.subplot(1, 2, 2)\n",
    "plt.plot(history.history['loss'], label='Training Loss')\n",
    "plt.plot(history.history['val_loss'], label='Validation Loss')\n",
    "plt.title('Model Loss')\n",
    "plt.xlabel('Epoch')\n",
    "plt.ylabel('Loss')\n",
    "plt.legend(loc='upper right')\n",
    "\n",
    "plt.show()"
   ]
  },
  {
   "cell_type": "code",
   "execution_count": null,
   "id": "cb31f43c-1ee1-4429-a0d6-7d1ced8b6000",
   "metadata": {},
   "outputs": [],
   "source": [
    "# Define classes\n",
    "classes = {v:k for k,v in fruit_labels_dict.items()}\n",
    "classes = [classes[i] for i in range(len(classes))]"
   ]
  },
  {
   "cell_type": "code",
   "execution_count": null,
   "id": "6dde6495-be93-40e4-8822-6e0f02595024",
   "metadata": {},
   "outputs": [],
   "source": [
    "fig,axes = plt.subplots(1,2,figsize=(8,4),sharey=True)\n",
    "\n",
    "for ax,(X,Y) in zip(axes,[(X_train,Y_train),(X_test, Y_test)]):\n",
    "    y_pred = model.predict(X)\n",
    "    confusion = (y_pred[:,None,:]*Y[:,:,None]).sum(0)/Y.sum(0)[:,None]\n",
    "    ax.pcolormesh(confusion)\n",
    "    ax.set_xticks(np.r_[0.5:8],classes)\n",
    "    ax.set_yticks(np.r_[0.5:8],classes)\n"
   ]
  },
  {
   "cell_type": "code",
   "execution_count": null,
   "id": "9058cbe3-6182-4c0e-b1d3-9732710a9704",
   "metadata": {},
   "outputs": [],
   "source": [
    "# Load and preprocess the image\n",
    "fileImage = Image.open(\"../Test-Pictures/no-fruit.jpeg\").convert(\"RGB\").resize([IMAGE_WIDTH, IMAGE_HEIGHT], Image.LANCZOS)\n",
    "image = np.array(fileImage)/255\n",
    "myimage = image.reshape(1, IMAGE_WIDTH, IMAGE_HEIGHT, IMAGE_CHANNELS)\n",
    "\n",
    "# Display the image\n",
    "plt.figure(figsize=(4, 2))\n",
    "plt.imshow(myimage[0])\n",
    "plt.show()\n",
    "\n",
    "# Predict the class\n",
    "my_prediction = model.predict(myimage)\n",
    "predicted_class = np.argmax(my_prediction, axis=1)[0]\n",
    "\n",
    "# Print the predicted class\n",
    "print(\"Predicted class:\", predicted_class, \"name=\", classes[predicted_class])\n",
    "print(np.round(my_prediction*100).astype(int))"
   ]
  },
  {
   "cell_type": "code",
   "execution_count": 42,
   "id": "1d1b89b3-5752-41bd-bdca-0220325fc156",
   "metadata": {},
   "outputs": [
    {
     "name": "stdout",
     "output_type": "stream",
     "text": [
      "INFO:tensorflow:Assets written to: models/fruitclassifier/assets\n"
     ]
    },
    {
     "name": "stderr",
     "output_type": "stream",
     "text": [
      "INFO:tensorflow:Assets written to: models/fruitclassifier/assets\n"
     ]
    }
   ],
   "source": [
    "output_dir = pathlib.Path(\"models/fruitclassifier\")\n",
    "tf.saved_model.save(model, output_dir)"
   ]
  },
  {
   "cell_type": "code",
   "execution_count": 43,
   "id": "5004a5a7-7930-475f-a31f-e95f6baaaab3",
   "metadata": {},
   "outputs": [],
   "source": [
    "with open(output_dir/\"synset.txt\", \"wt\") as fh:\n",
    "    for c in classes:\n",
    "        fh.write(c+\"\\n\")"
   ]
  },
  {
   "cell_type": "code",
   "execution_count": 44,
   "id": "a6f06065-8df9-490f-ac70-8ca03b2227e2",
   "metadata": {},
   "outputs": [],
   "source": [
    "with open(output_dir/\"serving.properties\",\"wt\") as fh:\n",
    "    fh.write(\"\"\"\n",
    "application=cv/image_classification\n",
    "engine=TensorFlow\n",
    "width=128\n",
    "height=128\n",
    "centerCrop=false\n",
    "resize=true\n",
    "applySoftmax=false\n",
    "\"\"\")"
   ]
  },
  {
   "cell_type": "code",
   "execution_count": null,
   "id": "02098187-408e-4ec5-b999-863e22933f12",
   "metadata": {},
   "outputs": [],
   "source": []
  },
  {
   "cell_type": "code",
   "execution_count": 20,
   "id": "d994a74c-6a1b-4c42-9752-a29a1000f828",
   "metadata": {},
   "outputs": [],
   "source": [
    "input = tf.keras.Input(shape=(None, None, IMAGE_CHANNELS))\n",
    "max = tf.math.reduce_max(input,axis=[-3,-2])\n",
    "min = tf.math.reduce_min(input,axis=[-3,-2])\n",
    "out = tf.concat([max,min,min[...,:2]],axis=-1)\n",
    "debug_model = tf.keras.Model(inputs=input, outputs=out)"
   ]
  },
  {
   "cell_type": "code",
   "execution_count": 21,
   "id": "35567c70-0e99-4ad9-881b-8d8ee4c3630d",
   "metadata": {},
   "outputs": [
    {
     "name": "stdout",
     "output_type": "stream",
     "text": [
      "WARNING:tensorflow:5 out of the last 18 calls to <function Model.make_predict_function.<locals>.predict_function at 0x1183e3420> triggered tf.function retracing. Tracing is expensive and the excessive number of tracings could be due to (1) creating @tf.function repeatedly in a loop, (2) passing tensors with different shapes, (3) passing Python objects instead of tensors. For (1), please define your @tf.function outside of the loop. For (2), @tf.function has reduce_retracing=True option that can avoid unnecessary retracing. For (3), please refer to https://www.tensorflow.org/guide/function#controlling_retracing and https://www.tensorflow.org/api_docs/python/tf/function for  more details.\n"
     ]
    },
    {
     "name": "stderr",
     "output_type": "stream",
     "text": [
      "WARNING:tensorflow:5 out of the last 18 calls to <function Model.make_predict_function.<locals>.predict_function at 0x1183e3420> triggered tf.function retracing. Tracing is expensive and the excessive number of tracings could be due to (1) creating @tf.function repeatedly in a loop, (2) passing tensors with different shapes, (3) passing Python objects instead of tensors. For (1), please define your @tf.function outside of the loop. For (2), @tf.function has reduce_retracing=True option that can avoid unnecessary retracing. For (3), please refer to https://www.tensorflow.org/guide/function#controlling_retracing and https://www.tensorflow.org/api_docs/python/tf/function for  more details.\n"
     ]
    },
    {
     "name": "stdout",
     "output_type": "stream",
     "text": [
      "1/1 [==============================] - 0s 31ms/step\n"
     ]
    },
    {
     "data": {
      "text/plain": [
       "array([[255., 255., 255.,  40.,   0.,   0.,  40.,   0.]], dtype=float32)"
      ]
     },
     "execution_count": 21,
     "metadata": {},
     "output_type": "execute_result"
    }
   ],
   "source": [
    "debug_model.predict(myimage)"
   ]
  },
  {
   "cell_type": "code",
   "execution_count": 22,
   "id": "da0ec068-f4e3-47da-ac78-cef4684190a6",
   "metadata": {},
   "outputs": [
    {
     "name": "stdout",
     "output_type": "stream",
     "text": [
      "INFO:tensorflow:Assets written to: models/fruitclassifier/assets\n"
     ]
    },
    {
     "name": "stderr",
     "output_type": "stream",
     "text": [
      "INFO:tensorflow:Assets written to: models/fruitclassifier/assets\n"
     ]
    }
   ],
   "source": [
    "tf.saved_model.save(debug_model, output_dir)"
   ]
  },
  {
   "cell_type": "code",
   "execution_count": null,
   "id": "b1133ea6-9f69-47da-be9f-ec17a6b1dcfa",
   "metadata": {},
   "outputs": [],
   "source": []
  }
 ],
 "metadata": {
  "kernelspec": {
   "display_name": "training-py311-tf213",
   "language": "python",
   "name": "training-py311-tf213"
  },
  "language_info": {
   "codemirror_mode": {
    "name": "ipython",
    "version": 3
   },
   "file_extension": ".py",
   "mimetype": "text/x-python",
   "name": "python",
   "nbconvert_exporter": "python",
   "pygments_lexer": "ipython3",
   "version": "3.11.4"
  }
 },
 "nbformat": 4,
 "nbformat_minor": 5
}
